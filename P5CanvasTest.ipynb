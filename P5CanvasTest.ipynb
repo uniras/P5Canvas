{
 "cells": [
  {
   "cell_type": "code",
   "execution_count": null,
   "metadata": {},
   "outputs": [],
   "source": [
    "%pip install pysmagic\n",
    "from pysmagic import register_pysmagic # type: ignore\n",
    "\n",
    "register_pysmagic()"
   ]
  },
  {
   "cell_type": "code",
   "execution_count": null,
   "metadata": {},
   "outputs": [],
   "source": [
    "%%run_iframe mpy 500 500 white '{ \"files\":{\"https://raw.githubusercontent.com/uniras/P5Canvas/main/P5Canvas/P5Canvas.py\":\"./P5Canvas.py\"} }' '[\"https://cdn.jsdelivr.net/npm/p5@1.9.4/lib/p5.js\"]'\n",
    "\n",
    "from P5Canvas import P5Canvas\n",
    "\n",
    "class MyCanvas(P5Canvas):\n",
    "    def setup(self, p5):\n",
    "        p5.createCanvas(300, 300)\n",
    "\n",
    "    def draw(self, p5):\n",
    "        p5.background(192)\n",
    "        p5.fill(255, 0, 0)\n",
    "        p5.ellipse(150, 150, 100, 100)\n",
    "\n",
    "MyCanvas().run()"
   ]
  }
 ],
 "metadata": {
  "kernelspec": {
   "display_name": ".venv",
   "language": "python",
   "name": "python3"
  },
  "language_info": {
   "codemirror_mode": {
    "name": "ipython",
    "version": 3
   },
   "file_extension": ".py",
   "mimetype": "text/x-python",
   "name": "python",
   "nbconvert_exporter": "python",
   "pygments_lexer": "ipython3",
   "version": "3.12.3"
  }
 },
 "nbformat": 4,
 "nbformat_minor": 2
}
